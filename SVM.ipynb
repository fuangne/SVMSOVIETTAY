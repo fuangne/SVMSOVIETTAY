{
  "nbformat": 4,
  "nbformat_minor": 0,
  "metadata": {
    "colab": {
      "provenance": []
    },
    "kernelspec": {
      "name": "python3",
      "display_name": "Python 3"
    },
    "language_info": {
      "name": "python"
    }
  },
  "cells": [
    {
      "cell_type": "markdown",
      "source": [
        "**Kết nối với Google Drive**"
      ],
      "metadata": {
        "id": "IyWZoT5uV44K"
      }
    },
    {
      "cell_type": "code",
      "source": [
        "from google.colab import drive\n",
        "drive.mount('/content/gdrive')"
      ],
      "metadata": {
        "id": "OvVNegb6HVQq",
        "colab": {
          "base_uri": "https://localhost:8080/"
        },
        "outputId": "02ff616f-7c23-4833-cb64-6c4a5091d081"
      },
      "execution_count": null,
      "outputs": [
        {
          "output_type": "stream",
          "name": "stdout",
          "text": [
            "Mounted at /content/gdrive\n"
          ]
        }
      ]
    },
    {
      "cell_type": "markdown",
      "source": [
        "**Tìm các siêu tham số tối ưu nhất cho thuật toán SVM**"
      ],
      "metadata": {
        "id": "GuW3x-gzWBWB"
      }
    },
    {
      "cell_type": "code",
      "source": [
        "import os\n",
        "import cv2\n",
        "import numpy as np\n",
        "from sklearn.model_selection import train_test_split\n",
        "from sklearn.model_selection import GridSearchCV\n",
        "from sklearn.svm import SVC\n",
        "\n",
        "data = '/content/gdrive/MyDrive/data'\n",
        "\n",
        "X = []\n",
        "y = []\n",
        "\n",
        "for img in os.listdir(data):\n",
        "  filename = os.path.basename(img)\n",
        "  if filename.endswith(\".png\"):\n",
        "    img = cv2.imread(os.path.join(data, img), 0)\n",
        "    img = cv2.resize(img, (28, 28))\n",
        "    img = np.reshape(img, -1)\n",
        "    if \"_\" in filename:\n",
        "        label = int(filename.split(\"_\")[0].split(\"so\")[1])\n",
        "    else:\n",
        "        label = int(filename.split(\"so\")[1].split(\".png\")[0])\n",
        "    X.append(img)\n",
        "    y.append(label)\n",
        "\n",
        "X_train, X_test, y_train, y_test = train_test_split(X, y, train_size = 259, random_state = 2)\n",
        "\n",
        "params = {'C': [0.1, 1, 10, 100],\n",
        "          'gamma': [0.0001, 0.001, 0.1, 1],\n",
        "          'kernel': ['rbf', 'poly', 'sigmoid']}\n",
        "\n",
        "grid_search = GridSearchCV(SVC(), params, refit=True, cv=5)\n",
        "grid_search.fit(X_train, y_train)\n",
        "\n",
        "accuracy = grid_search.score(X_test, y_test)\n",
        "print(\"Độ chính xác trên tập kiểm tra:\", accuracy)\n",
        "\n",
        "best_params = grid_search.best_params_\n",
        "print(\"Siêu tham số tốt nhất: \", best_params)"
      ],
      "metadata": {
        "id": "KO3n1-wd2nCi",
        "colab": {
          "base_uri": "https://localhost:8080/"
        },
        "outputId": "478b2397-f512-4087-88c1-140233517756"
      },
      "execution_count": null,
      "outputs": [
        {
          "output_type": "stream",
          "name": "stdout",
          "text": [
            "Độ chính xác trên tập kiểm tra: 0.5585585585585585\n",
            "Siêu tham số tốt nhất:  {'C': 0.1, 'gamma': 0.0001, 'kernel': 'poly'}\n"
          ]
        }
      ]
    },
    {
      "cell_type": "markdown",
      "source": [
        "**Thuật toán SVM**"
      ],
      "metadata": {
        "id": "q0UPs-w2YLYv"
      }
    },
    {
      "cell_type": "code",
      "execution_count": null,
      "metadata": {
        "id": "u3Y3MyrkGmMm",
        "colab": {
          "base_uri": "https://localhost:8080/",
          "height": 509
        },
        "outputId": "70705d0c-56cb-47c0-fb7c-f8906e9df062"
      },
      "outputs": [
        {
          "output_type": "display_data",
          "data": {
            "text/plain": [
              "<IPython.core.display.HTML object>"
            ],
            "text/html": [
              "\n",
              "     <input type=\"file\" id=\"files-104877c9-ea1b-4787-9cc2-a800b62d7fa1\" name=\"files[]\" multiple disabled\n",
              "        style=\"border:none\" />\n",
              "     <output id=\"result-104877c9-ea1b-4787-9cc2-a800b62d7fa1\">\n",
              "      Upload widget is only available when the cell has been executed in the\n",
              "      current browser session. Please rerun this cell to enable.\n",
              "      </output>\n",
              "      <script>// Copyright 2017 Google LLC\n",
              "//\n",
              "// Licensed under the Apache License, Version 2.0 (the \"License\");\n",
              "// you may not use this file except in compliance with the License.\n",
              "// You may obtain a copy of the License at\n",
              "//\n",
              "//      http://www.apache.org/licenses/LICENSE-2.0\n",
              "//\n",
              "// Unless required by applicable law or agreed to in writing, software\n",
              "// distributed under the License is distributed on an \"AS IS\" BASIS,\n",
              "// WITHOUT WARRANTIES OR CONDITIONS OF ANY KIND, either express or implied.\n",
              "// See the License for the specific language governing permissions and\n",
              "// limitations under the License.\n",
              "\n",
              "/**\n",
              " * @fileoverview Helpers for google.colab Python module.\n",
              " */\n",
              "(function(scope) {\n",
              "function span(text, styleAttributes = {}) {\n",
              "  const element = document.createElement('span');\n",
              "  element.textContent = text;\n",
              "  for (const key of Object.keys(styleAttributes)) {\n",
              "    element.style[key] = styleAttributes[key];\n",
              "  }\n",
              "  return element;\n",
              "}\n",
              "\n",
              "// Max number of bytes which will be uploaded at a time.\n",
              "const MAX_PAYLOAD_SIZE = 100 * 1024;\n",
              "\n",
              "function _uploadFiles(inputId, outputId) {\n",
              "  const steps = uploadFilesStep(inputId, outputId);\n",
              "  const outputElement = document.getElementById(outputId);\n",
              "  // Cache steps on the outputElement to make it available for the next call\n",
              "  // to uploadFilesContinue from Python.\n",
              "  outputElement.steps = steps;\n",
              "\n",
              "  return _uploadFilesContinue(outputId);\n",
              "}\n",
              "\n",
              "// This is roughly an async generator (not supported in the browser yet),\n",
              "// where there are multiple asynchronous steps and the Python side is going\n",
              "// to poll for completion of each step.\n",
              "// This uses a Promise to block the python side on completion of each step,\n",
              "// then passes the result of the previous step as the input to the next step.\n",
              "function _uploadFilesContinue(outputId) {\n",
              "  const outputElement = document.getElementById(outputId);\n",
              "  const steps = outputElement.steps;\n",
              "\n",
              "  const next = steps.next(outputElement.lastPromiseValue);\n",
              "  return Promise.resolve(next.value.promise).then((value) => {\n",
              "    // Cache the last promise value to make it available to the next\n",
              "    // step of the generator.\n",
              "    outputElement.lastPromiseValue = value;\n",
              "    return next.value.response;\n",
              "  });\n",
              "}\n",
              "\n",
              "/**\n",
              " * Generator function which is called between each async step of the upload\n",
              " * process.\n",
              " * @param {string} inputId Element ID of the input file picker element.\n",
              " * @param {string} outputId Element ID of the output display.\n",
              " * @return {!Iterable<!Object>} Iterable of next steps.\n",
              " */\n",
              "function* uploadFilesStep(inputId, outputId) {\n",
              "  const inputElement = document.getElementById(inputId);\n",
              "  inputElement.disabled = false;\n",
              "\n",
              "  const outputElement = document.getElementById(outputId);\n",
              "  outputElement.innerHTML = '';\n",
              "\n",
              "  const pickedPromise = new Promise((resolve) => {\n",
              "    inputElement.addEventListener('change', (e) => {\n",
              "      resolve(e.target.files);\n",
              "    });\n",
              "  });\n",
              "\n",
              "  const cancel = document.createElement('button');\n",
              "  inputElement.parentElement.appendChild(cancel);\n",
              "  cancel.textContent = 'Cancel upload';\n",
              "  const cancelPromise = new Promise((resolve) => {\n",
              "    cancel.onclick = () => {\n",
              "      resolve(null);\n",
              "    };\n",
              "  });\n",
              "\n",
              "  // Wait for the user to pick the files.\n",
              "  const files = yield {\n",
              "    promise: Promise.race([pickedPromise, cancelPromise]),\n",
              "    response: {\n",
              "      action: 'starting',\n",
              "    }\n",
              "  };\n",
              "\n",
              "  cancel.remove();\n",
              "\n",
              "  // Disable the input element since further picks are not allowed.\n",
              "  inputElement.disabled = true;\n",
              "\n",
              "  if (!files) {\n",
              "    return {\n",
              "      response: {\n",
              "        action: 'complete',\n",
              "      }\n",
              "    };\n",
              "  }\n",
              "\n",
              "  for (const file of files) {\n",
              "    const li = document.createElement('li');\n",
              "    li.append(span(file.name, {fontWeight: 'bold'}));\n",
              "    li.append(span(\n",
              "        `(${file.type || 'n/a'}) - ${file.size} bytes, ` +\n",
              "        `last modified: ${\n",
              "            file.lastModifiedDate ? file.lastModifiedDate.toLocaleDateString() :\n",
              "                                    'n/a'} - `));\n",
              "    const percent = span('0% done');\n",
              "    li.appendChild(percent);\n",
              "\n",
              "    outputElement.appendChild(li);\n",
              "\n",
              "    const fileDataPromise = new Promise((resolve) => {\n",
              "      const reader = new FileReader();\n",
              "      reader.onload = (e) => {\n",
              "        resolve(e.target.result);\n",
              "      };\n",
              "      reader.readAsArrayBuffer(file);\n",
              "    });\n",
              "    // Wait for the data to be ready.\n",
              "    let fileData = yield {\n",
              "      promise: fileDataPromise,\n",
              "      response: {\n",
              "        action: 'continue',\n",
              "      }\n",
              "    };\n",
              "\n",
              "    // Use a chunked sending to avoid message size limits. See b/62115660.\n",
              "    let position = 0;\n",
              "    do {\n",
              "      const length = Math.min(fileData.byteLength - position, MAX_PAYLOAD_SIZE);\n",
              "      const chunk = new Uint8Array(fileData, position, length);\n",
              "      position += length;\n",
              "\n",
              "      const base64 = btoa(String.fromCharCode.apply(null, chunk));\n",
              "      yield {\n",
              "        response: {\n",
              "          action: 'append',\n",
              "          file: file.name,\n",
              "          data: base64,\n",
              "        },\n",
              "      };\n",
              "\n",
              "      let percentDone = fileData.byteLength === 0 ?\n",
              "          100 :\n",
              "          Math.round((position / fileData.byteLength) * 100);\n",
              "      percent.textContent = `${percentDone}% done`;\n",
              "\n",
              "    } while (position < fileData.byteLength);\n",
              "  }\n",
              "\n",
              "  // All done.\n",
              "  yield {\n",
              "    response: {\n",
              "      action: 'complete',\n",
              "    }\n",
              "  };\n",
              "}\n",
              "\n",
              "scope.google = scope.google || {};\n",
              "scope.google.colab = scope.google.colab || {};\n",
              "scope.google.colab._files = {\n",
              "  _uploadFiles,\n",
              "  _uploadFilesContinue,\n",
              "};\n",
              "})(self);\n",
              "</script> "
            ]
          },
          "metadata": {}
        },
        {
          "output_type": "stream",
          "name": "stdout",
          "text": [
            "Saving so4_404.png to so4_404.png\n"
          ]
        },
        {
          "output_type": "display_data",
          "data": {
            "text/plain": [
              "<Figure size 640x480 with 1 Axes>"
            ],
            "image/png": "[encoded data removed]"
          },
          "metadata": {}
        }
      ],
      "source": [
        "import os\n",
        "import re\n",
        "import cv2\n",
        "import matplotlib.pyplot as plt\n",
        "import numpy as np\n",
        "from google.colab import files\n",
        "from sklearn import svm\n",
        "\n",
        "du_lieu_huan_luyen = '/content/gdrive/MyDrive/train_ct'\n",
        "\n",
        "X_train = []\n",
        "y_train = []\n",
        "\n",
        "for img in os.listdir(du_lieu_huan_luyen):\n",
        "  filename = os.path.basename(img)\n",
        "\n",
        "  if filename.endswith(\".png\"):\n",
        "    image = cv2.imread(os.path.join(du_lieu_huan_luyen, filename), 0)\n",
        "    image = cv2.resize(image, (28, 28))\n",
        "    image_vector = image.reshape(-1)\n",
        "    if \"_\" in filename:\n",
        "      label = int(filename.split(\"_\")[0].split(\"so\")[1])\n",
        "    else:\n",
        "      label = int(filename.split(\"so\")[1].split(\".png\")[0])\n",
        "    X_train.append(image_vector)\n",
        "    y_train.append(label)\n",
        "\n",
        "model = svm.SVC(kernel='poly', C = 0.1, gamma = 0.0001)\n",
        "X_train_array = np.array(X_train)\n",
        "model.fit(X_train_array, y_train)\n",
        "\n",
        "uploaded = files.upload()\n",
        "\n",
        "for img_path in list(uploaded.keys()):\n",
        "\n",
        "    image = cv2.imread(img_path, 0)\n",
        "    image = cv2.resize(image, (28, 28))\n",
        "\n",
        "    image_vector = image.reshape(1,-1)\n",
        "\n",
        "    so_du_doan = model.predict(image_vector)\n",
        "\n",
        "    plt.figure()\n",
        "    plt.imshow(image, cmap='gray')\n",
        "    plt.title(f'Số dự đoán: {so_du_doan[0]}')\n",
        "\n",
        "plt.show()\n",
        "\n"
      ]
    }
  ]
}